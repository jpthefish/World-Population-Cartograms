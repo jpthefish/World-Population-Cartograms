{
 "cells": [
  {
   "cell_type": "code",
   "execution_count": 3,
   "id": "e25139d1-4ea1-49a0-af95-fb72e6dc07a6",
   "metadata": {},
   "outputs": [],
   "source": [
    "import pandas as pd\n",
    "import numpy as np\n",
    "import glob\n",
    "import os"
   ]
  },
  {
   "cell_type": "code",
   "execution_count": 6,
   "id": "bb058c4a-421f-4af0-9a3a-2bc28b1133b3",
   "metadata": {},
   "outputs": [
    {
     "name": "stdout",
     "output_type": "stream",
     "text": [
      "Processed ./historicalPopulationFiles/populationYear1900.csv and saved to ./historicalPopulationFiles/renamed/renamed_populationYear1900.csv\n",
      "Processed ./historicalPopulationFiles/populationYear500.csv and saved to ./historicalPopulationFiles/renamed/renamed_populationYear500.csv\n",
      "Processed ./historicalPopulationFiles/populationYear1500.csv and saved to ./historicalPopulationFiles/renamed/renamed_populationYear1500.csv\n",
      "Processed ./historicalPopulationFiles/populationYear1000BC.csv and saved to ./historicalPopulationFiles/renamed/renamed_populationYear1000BC.csv\n",
      "Processed ./historicalPopulationFiles/populationYear1000.csv and saved to ./historicalPopulationFiles/renamed/renamed_populationYear1000.csv\n",
      "Processed ./historicalPopulationFiles/populationYear0.csv and saved to ./historicalPopulationFiles/renamed/renamed_populationYear0.csv\n"
     ]
    }
   ],
   "source": [
    "# Define the column mapping: old name -> new name\n",
    "column_mapping = {\n",
    "    'Code': 'ISO3_code',\n",
    "    'Year': 'Time',\n",
    "    'Population (historical)': 'PopTotal',\n",
    "    'Entity': 'Location'\n",
    "}\n",
    "\n",
    "# Path where CSV files are located\n",
    "input_path = './historicalPopulationFiles/'  # example directory containing your CSV files\n",
    "output_path = './historicalPopulationFiles/renamed/'  # directory to save new files\n",
    "\n",
    "# Create output directory if it doesn't exist\n",
    "os.makedirs(output_path, exist_ok=True)\n",
    "\n",
    "# Get a list of all CSV files in the directory (adjust the pattern if needed)\n",
    "csv_files = glob.glob(os.path.join(input_path, '*.csv'))\n",
    "\n",
    "for file in csv_files:\n",
    "    # Read the CSV file into a DataFrame\n",
    "    df = pd.read_csv(file)\n",
    "\n",
    "    df.drop(columns=['time'], inplace=True)\n",
    "    \n",
    "    # Rename the columns using the mapping dictionary\n",
    "    df.rename(columns=column_mapping, inplace=True)\n",
    "    \n",
    "    # Construct new filename (here we add a prefix \"renamed_\" to the original file name)\n",
    "    base_name = os.path.basename(file)\n",
    "    new_file = os.path.join(output_path, f\"renamed_{base_name}\")\n",
    "    \n",
    "    # Save the DataFrame to a new CSV file\n",
    "    df.to_csv(new_file, index=False)\n",
    "    print(f\"Processed {file} and saved to {new_file}\")\n"
   ]
  },
  {
   "cell_type": "code",
   "execution_count": null,
   "id": "c8406312-0ebb-4fe2-a6de-44d21b39334c",
   "metadata": {},
   "outputs": [],
   "source": []
  }
 ],
 "metadata": {
  "kernelspec": {
   "display_name": "Python 3 (ipykernel)",
   "language": "python",
   "name": "python3"
  },
  "language_info": {
   "codemirror_mode": {
    "name": "ipython",
    "version": 3
   },
   "file_extension": ".py",
   "mimetype": "text/x-python",
   "name": "python",
   "nbconvert_exporter": "python",
   "pygments_lexer": "ipython3",
   "version": "3.9.6"
  }
 },
 "nbformat": 4,
 "nbformat_minor": 5
}
