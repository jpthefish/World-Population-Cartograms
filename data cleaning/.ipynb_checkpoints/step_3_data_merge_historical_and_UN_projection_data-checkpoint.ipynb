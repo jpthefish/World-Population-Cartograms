{
 "cells": [
  {
   "cell_type": "code",
   "execution_count": 49,
   "id": "e25139d1-4ea1-49a0-af95-fb72e6dc07a6",
   "metadata": {},
   "outputs": [],
   "source": [
    "import pandas as pd\n",
    "import numpy as np\n",
    "import glob\n",
    "import os"
   ]
  },
  {
   "cell_type": "code",
   "execution_count": 50,
   "id": "d6ab8ba5-3c1d-4d53-b5c1-9bf341fcb190",
   "metadata": {},
   "outputs": [],
   "source": [
    "# Create the code to read a csv file \n",
    "dtype_spec = {2: str, 3: str, 5: str}\n",
    "\n",
    "# Load UN population data\n",
    "population_df = pd.read_csv('modified_UN_population_data_1950_to_2100.csv', dtype=dtype_spec)"
   ]
  },
  {
   "cell_type": "code",
   "execution_count": 51,
   "id": "3b4ac706-e4ba-45f3-a2fb-c8d1019a64cd",
   "metadata": {},
   "outputs": [
    {
     "data": {
      "text/plain": [
       "SortOrder      float64\n",
       "LocID            int64\n",
       "ISO3_code       object\n",
       "ISO2_code       object\n",
       "LocTypeID      float64\n",
       "LocTypeName     object\n",
       "ParentID       float64\n",
       "Location        object\n",
       "VarID            int64\n",
       "Variant         object\n",
       "Time             int64\n",
       "MidPeriod      float64\n",
       "PopTotal       float64\n",
       "dtype: object"
      ]
     },
     "execution_count": 51,
     "metadata": {},
     "output_type": "execute_result"
    }
   ],
   "source": [
    "population_df.dtypes"
   ]
  },
  {
   "cell_type": "code",
   "execution_count": 52,
   "id": "6107370e-a685-4340-a819-038d20312426",
   "metadata": {},
   "outputs": [],
   "source": [
    "# Create a mapping from ISO3_code to the standardized country name (Location)\n",
    "mapping = population_df[['ISO3_code', 'Location']].drop_duplicates().set_index('ISO3_code')['Location'].to_dict()"
   ]
  },
  {
   "cell_type": "code",
   "execution_count": 53,
   "id": "bb058c4a-421f-4af0-9a3a-2bc28b1133b3",
   "metadata": {},
   "outputs": [],
   "source": [
    "# Path where modified historical CSV files are located\n",
    "input_path = './historicalPopulationFiles/renamed/'\n",
    "\n",
    "# directory to save new file\n",
    "output_path = './finalDataset/'\n",
    "\n",
    "# Create output directory if it doesn't exist\n",
    "os.makedirs(output_path, exist_ok=True)\n",
    "\n",
    "# Get a list of all CSV files in the directory (adjust the pattern if needed)\n",
    "csv_files = glob.glob(os.path.join(input_path, '*.csv'))\n",
    "\n",
    "for file in csv_files:\n",
    "    # Read the CSV file into a DataFrame\n",
    "    historical_df = pd.read_csv(file)\n",
    "\n",
    "    # Cast PopTotal to float\n",
    "    historical_df['PopTotal'] = historical_df['PopTotal'].astype(float)\n",
    "\n",
    "    # Map the standardized country names from the Big Dataset into the Little Dataset based on ISO3_code\n",
    "    historical_df['Location'] = historical_df['ISO3_code'].map(mapping)\n",
    "    \n",
    "    # Add variant = Medium \n",
    "    historical_df['Variant'] = 'Medium'\n",
    "    historical_df['LocTypeID'] = 4.0\n",
    "\n",
    "    # Format in thousands\n",
    "    historical_df['PopTotal'] = historical_df['PopTotal'] / 1000\n",
    "    \n",
    "    # Merge\n",
    "    population_df = pd.concat([population_df, historical_df], ignore_index=True, sort=False)\n",
    "\n",
    "# Save final file\n",
    "new_file = os.path.join(output_path, \"mergedHistoricalAndProjectionData.csv\")\n",
    "    \n",
    "# Save the DataFrame to a new CSV file\n",
    "population_df.to_csv(new_file, index=False)\n"
   ]
  },
  {
   "cell_type": "code",
   "execution_count": null,
   "id": "a3602670-13d0-48c2-b070-3b473e745885",
   "metadata": {},
   "outputs": [],
   "source": []
  }
 ],
 "metadata": {
  "kernelspec": {
   "display_name": "Python 3 (ipykernel)",
   "language": "python",
   "name": "python3"
  },
  "language_info": {
   "codemirror_mode": {
    "name": "ipython",
    "version": 3
   },
   "file_extension": ".py",
   "mimetype": "text/x-python",
   "name": "python",
   "nbconvert_exporter": "python",
   "pygments_lexer": "ipython3",
   "version": "3.9.6"
  }
 },
 "nbformat": 4,
 "nbformat_minor": 5
}
