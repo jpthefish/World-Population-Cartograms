{
 "cells": [
  {
   "cell_type": "code",
   "execution_count": 143,
   "id": "e25139d1-4ea1-49a0-af95-fb72e6dc07a6",
   "metadata": {},
   "outputs": [],
   "source": [
    "import pandas as pd\n",
    "import numpy as np\n",
    "import glob\n",
    "import os"
   ]
  },
  {
   "cell_type": "code",
   "execution_count": 144,
   "id": "d6ab8ba5-3c1d-4d53-b5c1-9bf341fcb190",
   "metadata": {},
   "outputs": [],
   "source": [
    "# Create the code to read a csv file \n",
    "dtype_spec = {2: str, 3: str, 5: str}\n",
    "\n",
    "# Load UN + historical dataset\n",
    "population_df = pd.read_csv('./finalDataset/mergedHistoricalAndProjectionData.csv', dtype=dtype_spec)"
   ]
  },
  {
   "cell_type": "code",
   "execution_count": 145,
   "id": "3b4ac706-e4ba-45f3-a2fb-c8d1019a64cd",
   "metadata": {},
   "outputs": [
    {
     "data": {
      "text/plain": [
       "SortOrder      float64\n",
       "LocID          float64\n",
       "ISO3_code       object\n",
       "ISO2_code       object\n",
       "LocTypeID      float64\n",
       "LocTypeName     object\n",
       "ParentID       float64\n",
       "Location        object\n",
       "VarID          float64\n",
       "Variant         object\n",
       "Time             int64\n",
       "MidPeriod      float64\n",
       "PopTotal       float64\n",
       "dtype: object"
      ]
     },
     "execution_count": 145,
     "metadata": {},
     "output_type": "execute_result"
    }
   ],
   "source": [
    "population_df.dtypes"
   ]
  },
  {
   "cell_type": "code",
   "execution_count": 146,
   "id": "bb058c4a-421f-4af0-9a3a-2bc28b1133b3",
   "metadata": {},
   "outputs": [
    {
     "name": "stdout",
     "output_type": "stream",
     "text": [
      "<class 'pandas.core.frame.DataFrame'>\n",
      "RangeIndex: 892416 entries, 0 to 892415\n",
      "Data columns (total 16 columns):\n",
      " #   Column          Non-Null Count   Dtype  \n",
      "---  ------          --------------   -----  \n",
      " 0   location_id     892416 non-null  int64  \n",
      " 1   location_name   892416 non-null  object \n",
      " 2   sex_id          892416 non-null  int64  \n",
      " 3   sex             892416 non-null  object \n",
      " 4   age_group_id    892416 non-null  int64  \n",
      " 5   age_group_name  892416 non-null  object \n",
      " 6   year_id         892416 non-null  int64  \n",
      " 7   measure_id      892416 non-null  int64  \n",
      " 8   measure_name    892416 non-null  object \n",
      " 9   metric_id       892416 non-null  int64  \n",
      " 10  metric_name     892416 non-null  object \n",
      " 11  scenario        892416 non-null  int64  \n",
      " 12  scenario_name   892416 non-null  object \n",
      " 13  val             892416 non-null  float64\n",
      " 14  upper           892416 non-null  float64\n",
      " 15  lower           892416 non-null  float64\n",
      "dtypes: float64(3), int64(7), object(6)\n",
      "memory usage: 108.9+ MB\n"
     ]
    }
   ],
   "source": [
    "# CSV files\n",
    "IHME_ref_path = 'IHME_Projections_Ref.csv'\n",
    "IHME_SDG_path = 'IHME_Projections_SDG.csv'\n",
    "\n",
    "# directory to save new file\n",
    "output_path = './finalDataset/'\n",
    "\n",
    "IHME_ref_df = pd.read_csv(IHME_ref_path)\n",
    "IHME_sdg_df = pd.read_csv(IHME_SDG_path)\n",
    "\n",
    "IHME_ref_df.info()"
   ]
  },
  {
   "cell_type": "code",
   "execution_count": 147,
   "id": "b318b30d-18ed-47b2-86e6-bb31d4bbd070",
   "metadata": {},
   "outputs": [],
   "source": [
    "# Define the column mapping: old name -> new name\n",
    "column_mapping = {\n",
    "    # 'Code': 'ISO3_code',\n",
    "    'year_id': 'Time',\n",
    "    'val': 'PopTotal',\n",
    "    'location_name': 'Location',\n",
    "    'scenario_name': 'Variant'\n",
    "}"
   ]
  },
  {
   "cell_type": "code",
   "execution_count": 148,
   "id": "1fe3e13e-d591-4a1d-90e7-0ed27f3b9458",
   "metadata": {},
   "outputs": [],
   "source": [
    "# Rename the columns using the mapping dictionary\n",
    "IHME_ref_df.rename(columns=column_mapping, inplace=True)\n",
    "IHME_sdg_df.rename(columns=column_mapping, inplace=True)"
   ]
  },
  {
   "cell_type": "code",
   "execution_count": 149,
   "id": "cac91bbc-65c4-4802-a73f-69a5e70b59bc",
   "metadata": {},
   "outputs": [],
   "source": [
    "# Define the list of Year values to keep\n",
    "years_to_keep = [2050, 2100]\n",
    "\n",
    "# Filter dataframe to only rows where 'Year' is in years_to_keep\n",
    "IHME_ref_df = IHME_ref_df[IHME_ref_df['Time'].isin(years_to_keep)]\n",
    "IHME_sdg_df = IHME_sdg_df[IHME_sdg_df['Time'].isin(years_to_keep)]"
   ]
  },
  {
   "cell_type": "code",
   "execution_count": 150,
   "id": "4ee89ee4-7aae-4ead-8dd5-e724438f3279",
   "metadata": {},
   "outputs": [],
   "source": [
    "# Define the list of Age values to keep\n",
    "ages_to_keep = [\"All Ages\"]\n",
    "\n",
    "# Filter dataframe to only rows where 'Year' is in years_to_keep\n",
    "IHME_ref_df = IHME_ref_df[IHME_ref_df['age_group_name'].isin(ages_to_keep)]\n",
    "IHME_sdg_df = IHME_sdg_df[IHME_sdg_df['age_group_name'].isin(ages_to_keep)]"
   ]
  },
  {
   "cell_type": "code",
   "execution_count": 151,
   "id": "0f94b045-dd08-45b7-ac13-1c4eafac0afb",
   "metadata": {},
   "outputs": [],
   "source": [
    "# Add variant name \n",
    "IHME_ref_df['Variant'] = 'IHME reference pace'\n",
    "IHME_ref_df['LocTypeID'] = 4.0\n",
    "\n",
    "IHME_sdg_df['Variant'] = 'IHME sustainable development goals (SDG) pace'\n",
    "IHME_sdg_df['LocTypeID'] = 4.0"
   ]
  },
  {
   "cell_type": "code",
   "execution_count": 152,
   "id": "66357b68-b45b-4efe-b4d1-6e2921da2848",
   "metadata": {},
   "outputs": [
    {
     "name": "stdout",
     "output_type": "stream",
     "text": [
      "<class 'pandas.core.frame.DataFrame'>\n",
      "Index: 896 entries, 706528 to 743679\n",
      "Data columns (total 17 columns):\n",
      " #   Column          Non-Null Count  Dtype  \n",
      "---  ------          --------------  -----  \n",
      " 0   location_id     896 non-null    int64  \n",
      " 1   Location        896 non-null    object \n",
      " 2   sex_id          896 non-null    int64  \n",
      " 3   sex             896 non-null    object \n",
      " 4   age_group_id    896 non-null    int64  \n",
      " 5   age_group_name  896 non-null    object \n",
      " 6   Time            896 non-null    int64  \n",
      " 7   measure_id      896 non-null    int64  \n",
      " 8   measure_name    896 non-null    object \n",
      " 9   metric_id       896 non-null    int64  \n",
      " 10  metric_name     896 non-null    object \n",
      " 11  scenario        896 non-null    int64  \n",
      " 12  Variant         896 non-null    object \n",
      " 13  PopTotal        896 non-null    float64\n",
      " 14  upper           896 non-null    float64\n",
      " 15  lower           896 non-null    float64\n",
      " 16  LocTypeID       896 non-null    float64\n",
      "dtypes: float64(4), int64(7), object(6)\n",
      "memory usage: 126.0+ KB\n"
     ]
    }
   ],
   "source": [
    "IHME_sdg_df.info()"
   ]
  },
  {
   "cell_type": "code",
   "execution_count": 153,
   "id": "e1a71d1e-ae3e-4a91-91de-be7a7d4e0c1f",
   "metadata": {},
   "outputs": [],
   "source": [
    "# Drop unnecessary columns\n",
    "IHME_ref_df.drop(columns=['location_id', 'sex_id', 'age_group_id', 'age_group_name', 'measure_id', \n",
    "                         'measure_name', 'metric_id', 'metric_name', 'scenario', 'upper', 'lower'], inplace=True)\n",
    "\n",
    "IHME_sdg_df.drop(columns=['location_id', 'sex_id', 'age_group_id', 'age_group_name', 'measure_id', \n",
    "                         'measure_name', 'metric_id', 'metric_name', 'scenario', 'upper', 'lower'], inplace=True)"
   ]
  },
  {
   "cell_type": "code",
   "execution_count": 154,
   "id": "c419a93c-9f92-4940-9096-6d1041d5d517",
   "metadata": {},
   "outputs": [],
   "source": [
    "# Cast PopTotal to float\n",
    "IHME_ref_df['PopTotal'] = IHME_ref_df['PopTotal'].astype(float)\n",
    "IHME_sdg_df['PopTotal'] = IHME_sdg_df['PopTotal'].astype(float)"
   ]
  },
  {
   "cell_type": "code",
   "execution_count": 155,
   "id": "12bdd1e9-25b2-4889-8c33-5f00e4230b89",
   "metadata": {},
   "outputs": [],
   "source": [
    "# Format in thousands\n",
    "IHME_ref_df['PopTotal'] = IHME_ref_df['PopTotal'] / 1000\n",
    "IHME_sdg_df['PopTotal'] = IHME_sdg_df['PopTotal'] / 1000"
   ]
  },
  {
   "cell_type": "code",
   "execution_count": 156,
   "id": "8d839997-29b1-40c6-9eb4-50ab2d6f9576",
   "metadata": {},
   "outputs": [
    {
     "name": "stdout",
     "output_type": "stream",
     "text": [
      "<class 'pandas.core.frame.DataFrame'>\n",
      "Index: 896 entries, 706528 to 743679\n",
      "Data columns (total 6 columns):\n",
      " #   Column     Non-Null Count  Dtype  \n",
      "---  ------     --------------  -----  \n",
      " 0   Location   896 non-null    object \n",
      " 1   sex        896 non-null    object \n",
      " 2   Time       896 non-null    int64  \n",
      " 3   Variant    896 non-null    object \n",
      " 4   PopTotal   896 non-null    float64\n",
      " 5   LocTypeID  896 non-null    float64\n",
      "dtypes: float64(2), int64(1), object(3)\n",
      "memory usage: 49.0+ KB\n"
     ]
    }
   ],
   "source": [
    "IHME_ref_df.info()"
   ]
  },
  {
   "cell_type": "code",
   "execution_count": 157,
   "id": "e3c31961-4532-4554-bd6e-80f9ed60a776",
   "metadata": {},
   "outputs": [
    {
     "data": {
      "text/html": [
       "<div>\n",
       "<style scoped>\n",
       "    .dataframe tbody tr th:only-of-type {\n",
       "        vertical-align: middle;\n",
       "    }\n",
       "\n",
       "    .dataframe tbody tr th {\n",
       "        vertical-align: top;\n",
       "    }\n",
       "\n",
       "    .dataframe thead th {\n",
       "        text-align: right;\n",
       "    }\n",
       "</style>\n",
       "<table border=\"1\" class=\"dataframe\">\n",
       "  <thead>\n",
       "    <tr style=\"text-align: right;\">\n",
       "      <th></th>\n",
       "      <th>Location</th>\n",
       "      <th>sex</th>\n",
       "      <th>Time</th>\n",
       "      <th>Variant</th>\n",
       "      <th>PopTotal</th>\n",
       "      <th>LocTypeID</th>\n",
       "    </tr>\n",
       "  </thead>\n",
       "  <tbody>\n",
       "    <tr>\n",
       "      <th>706528</th>\n",
       "      <td>Global</td>\n",
       "      <td>Male</td>\n",
       "      <td>2050</td>\n",
       "      <td>IHME reference pace</td>\n",
       "      <td>4.776133e+06</td>\n",
       "      <td>4.0</td>\n",
       "    </tr>\n",
       "    <tr>\n",
       "      <th>706578</th>\n",
       "      <td>Global</td>\n",
       "      <td>Male</td>\n",
       "      <td>2100</td>\n",
       "      <td>IHME reference pace</td>\n",
       "      <td>4.401326e+06</td>\n",
       "      <td>4.0</td>\n",
       "    </tr>\n",
       "    <tr>\n",
       "      <th>706611</th>\n",
       "      <td>Central Europe, Eastern Europe, and Central Asia</td>\n",
       "      <td>Male</td>\n",
       "      <td>2050</td>\n",
       "      <td>IHME reference pace</td>\n",
       "      <td>1.916529e+05</td>\n",
       "      <td>4.0</td>\n",
       "    </tr>\n",
       "    <tr>\n",
       "      <th>706661</th>\n",
       "      <td>Central Europe, Eastern Europe, and Central Asia</td>\n",
       "      <td>Male</td>\n",
       "      <td>2100</td>\n",
       "      <td>IHME reference pace</td>\n",
       "      <td>1.594659e+05</td>\n",
       "      <td>4.0</td>\n",
       "    </tr>\n",
       "    <tr>\n",
       "      <th>706694</th>\n",
       "      <td>Central Asia</td>\n",
       "      <td>Male</td>\n",
       "      <td>2050</td>\n",
       "      <td>IHME reference pace</td>\n",
       "      <td>6.013316e+04</td>\n",
       "      <td>4.0</td>\n",
       "    </tr>\n",
       "  </tbody>\n",
       "</table>\n",
       "</div>"
      ],
      "text/plain": [
       "                                                Location   sex  Time  \\\n",
       "706528                                            Global  Male  2050   \n",
       "706578                                            Global  Male  2100   \n",
       "706611  Central Europe, Eastern Europe, and Central Asia  Male  2050   \n",
       "706661  Central Europe, Eastern Europe, and Central Asia  Male  2100   \n",
       "706694                                      Central Asia  Male  2050   \n",
       "\n",
       "                    Variant      PopTotal  LocTypeID  \n",
       "706528  IHME reference pace  4.776133e+06        4.0  \n",
       "706578  IHME reference pace  4.401326e+06        4.0  \n",
       "706611  IHME reference pace  1.916529e+05        4.0  \n",
       "706661  IHME reference pace  1.594659e+05        4.0  \n",
       "706694  IHME reference pace  6.013316e+04        4.0  "
      ]
     },
     "execution_count": 157,
     "metadata": {},
     "output_type": "execute_result"
    }
   ],
   "source": [
    "IHME_ref_df.head()"
   ]
  },
  {
   "cell_type": "code",
   "execution_count": 184,
   "id": "7f87aaee-bb2e-41b3-9e16-86bd97224332",
   "metadata": {},
   "outputs": [
    {
     "name": "stdout",
     "output_type": "stream",
     "text": [
      "<class 'pandas.core.frame.DataFrame'>\n",
      "RangeIndex: 444 entries, 0 to 443\n",
      "Data columns (total 5 columns):\n",
      " #   Column     Non-Null Count  Dtype  \n",
      "---  ------     --------------  -----  \n",
      " 0   Location   444 non-null    object \n",
      " 1   Time       444 non-null    int64  \n",
      " 2   Variant    444 non-null    object \n",
      " 3   LocTypeID  444 non-null    float64\n",
      " 4   PopTotal   444 non-null    float64\n",
      "dtypes: float64(2), int64(1), object(2)\n",
      "memory usage: 17.5+ KB\n"
     ]
    }
   ],
   "source": [
    "# Suppose your DataFrame has columns: ['Year', 'Variant', 'Location', 'sex', 'Population']\n",
    "# Keep everything the same except sex, summing over 'Male' and 'Female'\n",
    "\n",
    "IHME_ref_df_total = (\n",
    "    IHME_ref_df\n",
    "    .groupby(['Location', 'Time', 'Variant', 'LocTypeID'], as_index=False) # list all the columns EXCEPT 'sex'\n",
    "    ['PopTotal'].sum() # sum the population across the grouped rows\n",
    ")\n",
    "\n",
    "IHME_sdg_df_total = (\n",
    "    IHME_sdg_df\n",
    "    .groupby(['Location', 'Time', 'Variant', 'LocTypeID'], as_index=False) # list all the columns EXCEPT 'sex'\n",
    "    ['PopTotal'].sum() # sum the population across the grouped rows\n",
    ")\n",
    "\n",
    "IHME_sdg_df_total.info()"
   ]
  },
  {
   "cell_type": "code",
   "execution_count": 185,
   "id": "e5a3fd17-63d5-40f0-b7d0-3cc7d5352668",
   "metadata": {},
   "outputs": [],
   "source": [
    "import pycountry\n",
    "\n",
    "# Handle iso code issues (the dataset doesn't have iso codes)\n",
    "def get_country_code(country_name):\n",
    "    try:\n",
    "        # Attempt to look up the country by name\n",
    "        return pycountry.countries.search_fuzzy(country_name)[0].alpha_3\n",
    "    except:\n",
    "        # If not found, return None or some placeholder\n",
    "        return None\n",
    "\n",
    "IHME_ref_df_total[\"ISO3_code\"] = IHME_ref_df_total[\"Location\"].apply(get_country_code)\n",
    "IHME_sdg_df_total[\"ISO3_code\"] = IHME_sdg_df_total[\"Location\"].apply(get_country_code)"
   ]
  },
  {
   "cell_type": "code",
   "execution_count": 186,
   "id": "4fea4ddd-b849-4501-a7c8-6a73d6678651",
   "metadata": {},
   "outputs": [
    {
     "name": "stdout",
     "output_type": "stream",
     "text": [
      "<class 'pandas.core.frame.DataFrame'>\n",
      "RangeIndex: 444 entries, 0 to 443\n",
      "Data columns (total 6 columns):\n",
      " #   Column     Non-Null Count  Dtype  \n",
      "---  ------     --------------  -----  \n",
      " 0   Location   444 non-null    object \n",
      " 1   Time       444 non-null    int64  \n",
      " 2   Variant    444 non-null    object \n",
      " 3   LocTypeID  444 non-null    float64\n",
      " 4   PopTotal   444 non-null    float64\n",
      " 5   ISO3_code  374 non-null    object \n",
      "dtypes: float64(2), int64(1), object(3)\n",
      "memory usage: 20.9+ KB\n"
     ]
    }
   ],
   "source": [
    "IHME_sdg_df_total.info()"
   ]
  },
  {
   "cell_type": "code",
   "execution_count": 193,
   "id": "3b4f0f19-54a7-4148-b81e-cb0bd5e2086b",
   "metadata": {},
   "outputs": [
    {
     "data": {
      "text/html": [
       "<div>\n",
       "<style scoped>\n",
       "    .dataframe tbody tr th:only-of-type {\n",
       "        vertical-align: middle;\n",
       "    }\n",
       "\n",
       "    .dataframe tbody tr th {\n",
       "        vertical-align: top;\n",
       "    }\n",
       "\n",
       "    .dataframe thead th {\n",
       "        text-align: right;\n",
       "    }\n",
       "</style>\n",
       "<table border=\"1\" class=\"dataframe\">\n",
       "  <thead>\n",
       "    <tr style=\"text-align: right;\">\n",
       "      <th></th>\n",
       "      <th>Location</th>\n",
       "      <th>Time</th>\n",
       "      <th>Variant</th>\n",
       "      <th>LocTypeID</th>\n",
       "      <th>PopTotal</th>\n",
       "      <th>ISO3_code</th>\n",
       "    </tr>\n",
       "  </thead>\n",
       "  <tbody>\n",
       "    <tr>\n",
       "      <th>110</th>\n",
       "      <td>Democratic People's Republic of Korea</td>\n",
       "      <td>2050</td>\n",
       "      <td>IHME reference pace</td>\n",
       "      <td>4.0</td>\n",
       "      <td>23538.251610</td>\n",
       "      <td>PRK</td>\n",
       "    </tr>\n",
       "    <tr>\n",
       "      <th>111</th>\n",
       "      <td>Democratic People's Republic of Korea</td>\n",
       "      <td>2100</td>\n",
       "      <td>IHME reference pace</td>\n",
       "      <td>4.0</td>\n",
       "      <td>12975.869826</td>\n",
       "      <td>PRK</td>\n",
       "    </tr>\n",
       "    <tr>\n",
       "      <th>320</th>\n",
       "      <td>Republic of Korea</td>\n",
       "      <td>2050</td>\n",
       "      <td>IHME reference pace</td>\n",
       "      <td>4.0</td>\n",
       "      <td>49976.482150</td>\n",
       "      <td>KOR</td>\n",
       "    </tr>\n",
       "    <tr>\n",
       "      <th>321</th>\n",
       "      <td>Republic of Korea</td>\n",
       "      <td>2100</td>\n",
       "      <td>IHME reference pace</td>\n",
       "      <td>4.0</td>\n",
       "      <td>26777.352390</td>\n",
       "      <td>KOR</td>\n",
       "    </tr>\n",
       "  </tbody>\n",
       "</table>\n",
       "</div>"
      ],
      "text/plain": [
       "                                  Location  Time              Variant  \\\n",
       "110  Democratic People's Republic of Korea  2050  IHME reference pace   \n",
       "111  Democratic People's Republic of Korea  2100  IHME reference pace   \n",
       "320                      Republic of Korea  2050  IHME reference pace   \n",
       "321                      Republic of Korea  2100  IHME reference pace   \n",
       "\n",
       "     LocTypeID      PopTotal ISO3_code  \n",
       "110        4.0  23538.251610       PRK  \n",
       "111        4.0  12975.869826       PRK  \n",
       "320        4.0  49976.482150       KOR  \n",
       "321        4.0  26777.352390       KOR  "
      ]
     },
     "execution_count": 193,
     "metadata": {},
     "output_type": "execute_result"
    }
   ],
   "source": [
    "df_south_korea = IHME_ref_df_total[IHME_sdg_df_total[\"Location\"].str.contains(\"Korea\", case=False, regex=True)]\n",
    "df_south_korea"
   ]
  },
  {
   "cell_type": "code",
   "execution_count": 188,
   "id": "1cbed720-bfeb-411b-8703-b46b865ae18b",
   "metadata": {},
   "outputs": [],
   "source": [
    "erroneous_ISO_fix = {\n",
    "    'Republic of Korea': 'KOR',\n",
    "    'Niger': 'NER'\n",
    "}\n",
    "\n",
    "# For each row, if the \"Country\" is in manual_fixes,\n",
    "# override the ISO3 with the known correct code\n",
    "IHME_ref_df_total[\"ISO3_code\"] = IHME_ref_df_total.apply(\n",
    "    lambda row: erroneous_ISO_fix[row[\"Location\"]]\n",
    "    if row[\"Location\"] in erroneous_ISO_fix else row[\"ISO3_code\"],\n",
    "    axis=1\n",
    ")\n",
    "\n",
    "IHME_sdg_df_total[\"ISO3_code\"] = IHME_sdg_df_total.apply(\n",
    "    lambda row: erroneous_ISO_fix[row[\"Location\"]]\n",
    "    if row[\"Location\"] in erroneous_ISO_fix else row[\"ISO3_code\"],\n",
    "    axis=1\n",
    ")"
   ]
  },
  {
   "cell_type": "code",
   "execution_count": 194,
   "id": "ae67d94e-f71f-4673-8bc8-21c38748100c",
   "metadata": {},
   "outputs": [],
   "source": [
    "# unmatched = IHME_ref_df_total[IHME_ref_df_total['ISO_Code'].isna()]\n",
    "# unmatched.head(50)\n",
    "\n",
    "# 'Democratic Republic of the Congo' = 'Dem. Rep. Congo'\n",
    "# 'Bolivia (Plurinational State of)' = 'Bolivia'\n",
    "# 'Micronesia (Federated States of)' = 'Micronesia'\n",
    "# 'Iran (Islamic Republic of)' = 'Iran'\n",
    "# 'Turkey' = 'Türkiye'\n",
    "# 'Taiwan (Province of China)' = 'Taiwan'\n",
    "# 'Venezuela (Bolivarian Republic of)' = 'Venezuela'\n",
    "\n",
    "# Missing ISO code mapping\n",
    "country_to_ISO_mapping = {\n",
    "    'Democratic Republic of the Congo': 'COD',\n",
    "    'Bolivia (Plurinational State of)': 'BOL',\n",
    "    'Micronesia (Federated States of)': 'FSM',\n",
    "    'Iran (Islamic Republic of)': 'IRN',\n",
    "    'Turkey': 'TUR',\n",
    "    'Taiwan (Province of China)': 'TWN',\n",
    "    'Venezuela (Bolivarian Republic of)': 'VEN'\n",
    "}\n",
    "\n",
    "# Get a Series of mapped values\n",
    "mapped_series = IHME_ref_df_total[\"Location\"].map(country_to_ISO_mapping)\n",
    "\n",
    "# Fill in only where df[\"ISO3_Code\"] is currently NaN\n",
    "IHME_ref_df_total[\"ISO3_code\"] = IHME_ref_df_total[\"ISO3_code\"].fillna(mapped_series)\n",
    "IHME_sdg_df_total[\"ISO3_code\"] = IHME_sdg_df_total[\"ISO3_code\"].fillna(mapped_series)"
   ]
  },
  {
   "cell_type": "code",
   "execution_count": 195,
   "id": "0fd057dc-112f-4676-8e08-afca885d6d1b",
   "metadata": {},
   "outputs": [
    {
     "name": "stdout",
     "output_type": "stream",
     "text": [
      "<class 'pandas.core.frame.DataFrame'>\n",
      "RangeIndex: 444 entries, 0 to 443\n",
      "Data columns (total 6 columns):\n",
      " #   Column     Non-Null Count  Dtype  \n",
      "---  ------     --------------  -----  \n",
      " 0   Location   444 non-null    object \n",
      " 1   Time       444 non-null    int64  \n",
      " 2   Variant    444 non-null    object \n",
      " 3   LocTypeID  444 non-null    float64\n",
      " 4   PopTotal   444 non-null    float64\n",
      " 5   ISO3_code  388 non-null    object \n",
      "dtypes: float64(2), int64(1), object(3)\n",
      "memory usage: 20.9+ KB\n"
     ]
    }
   ],
   "source": [
    "IHME_ref_df_total.info()"
   ]
  },
  {
   "cell_type": "code",
   "execution_count": 196,
   "id": "af39deab-8321-4630-b093-913b4e96aed0",
   "metadata": {},
   "outputs": [],
   "source": [
    "# Create a mapping from ISO3_code to the standardized country name (Location)\n",
    "mapping = population_df[['ISO3_code', 'Location']].drop_duplicates().set_index('ISO3_code')['Location'].to_dict()\n",
    "\n",
    "# Map the standardized country names from the Big Dataset into the Little Dataset based on ISO3_code\n",
    "IHME_ref_df_total['Location'] = IHME_ref_df_total['ISO3_code'].map(mapping)\n",
    "IHME_sdg_df_total['Location'] = IHME_sdg_df_total['ISO3_code'].map(mapping)"
   ]
  },
  {
   "cell_type": "code",
   "execution_count": 197,
   "id": "8fdd5743-fb08-4b46-a346-01b74f62e275",
   "metadata": {},
   "outputs": [
    {
     "name": "stdout",
     "output_type": "stream",
     "text": [
      "<class 'pandas.core.frame.DataFrame'>\n",
      "RangeIndex: 444 entries, 0 to 443\n",
      "Data columns (total 6 columns):\n",
      " #   Column     Non-Null Count  Dtype  \n",
      "---  ------     --------------  -----  \n",
      " 0   Location   444 non-null    object \n",
      " 1   Time       444 non-null    int64  \n",
      " 2   Variant    444 non-null    object \n",
      " 3   LocTypeID  444 non-null    float64\n",
      " 4   PopTotal   444 non-null    float64\n",
      " 5   ISO3_code  388 non-null    object \n",
      "dtypes: float64(2), int64(1), object(3)\n",
      "memory usage: 20.9+ KB\n"
     ]
    }
   ],
   "source": [
    "IHME_sdg_df_total.info()"
   ]
  },
  {
   "cell_type": "code",
   "execution_count": 198,
   "id": "a3602670-13d0-48c2-b070-3b473e745885",
   "metadata": {},
   "outputs": [],
   "source": [
    "# Merge\n",
    "population_df = pd.concat([population_df, IHME_ref_df_total], ignore_index=True, sort=False)\n",
    "population_df = pd.concat([population_df, IHME_sdg_df_total], ignore_index=True, sort=False)\n",
    "\n",
    "# Save final file\n",
    "new_file = os.path.join(output_path, \"mergedHistoricalAndProjectionData2.csv\")\n",
    "    \n",
    "# Save the DataFrame to a new CSV file\n",
    "population_df.to_csv(new_file, index=False)"
   ]
  },
  {
   "cell_type": "code",
   "execution_count": 199,
   "id": "bd51ab00-2de8-4b10-8a28-e0cdd0ebab86",
   "metadata": {},
   "outputs": [
    {
     "name": "stdout",
     "output_type": "stream",
     "text": [
      "<class 'pandas.core.frame.DataFrame'>\n",
      "RangeIndex: 384937 entries, 0 to 384936\n",
      "Data columns (total 13 columns):\n",
      " #   Column       Non-Null Count   Dtype  \n",
      "---  ------       --------------   -----  \n",
      " 0   SortOrder    221490 non-null  float64\n",
      " 1   LocID        382950 non-null  float64\n",
      " 2   ISO3_code    165405 non-null  object \n",
      " 3   ISO2_code    162840 non-null  object \n",
      " 4   LocTypeID    223477 non-null  float64\n",
      " 5   LocTypeName  221490 non-null  object \n",
      " 6   ParentID     221490 non-null  float64\n",
      " 7   Location     384937 non-null  object \n",
      " 8   VarID        382950 non-null  float64\n",
      " 9   Variant      384937 non-null  object \n",
      " 10  Time         384937 non-null  int64  \n",
      " 11  MidPeriod    382950 non-null  float64\n",
      " 12  PopTotal     384937 non-null  float64\n",
      "dtypes: float64(7), int64(1), object(5)\n",
      "memory usage: 38.2+ MB\n"
     ]
    }
   ],
   "source": [
    "population_df.info()"
   ]
  },
  {
   "cell_type": "code",
   "execution_count": 200,
   "id": "9f3b0251-6a27-4a7a-9738-7dfcb08fbd67",
   "metadata": {},
   "outputs": [
    {
     "name": "stdout",
     "output_type": "stream",
     "text": [
      "<class 'pandas.core.frame.DataFrame'>\n",
      "Index: 218838 entries, 690 to 384930\n",
      "Data columns (total 13 columns):\n",
      " #   Column       Non-Null Count   Dtype  \n",
      "---  ------       --------------   -----  \n",
      " 0   SortOrder    57960 non-null   float64\n",
      " 1   LocID        218730 non-null  float64\n",
      " 2   ISO3_code    0 non-null       object \n",
      " 3   ISO2_code    0 non-null       object \n",
      " 4   LocTypeID    58068 non-null   float64\n",
      " 5   LocTypeName  57960 non-null   object \n",
      " 6   ParentID     57960 non-null   float64\n",
      " 7   Location     218838 non-null  object \n",
      " 8   VarID        218730 non-null  float64\n",
      " 9   Variant      218838 non-null  object \n",
      " 10  Time         218838 non-null  int64  \n",
      " 11  MidPeriod    218730 non-null  float64\n",
      " 12  PopTotal     218838 non-null  float64\n",
      "dtypes: float64(7), int64(1), object(5)\n",
      "memory usage: 23.4+ MB\n"
     ]
    }
   ],
   "source": [
    "dups = population_df[population_df.duplicated(subset=['ISO3_code', 'Time', 'Variant'])]\n",
    "dups.info()"
   ]
  },
  {
   "cell_type": "code",
   "execution_count": 201,
   "id": "3caeacbc-b1c5-44c4-b265-d01564c377dd",
   "metadata": {},
   "outputs": [
    {
     "data": {
      "text/html": [
       "<div>\n",
       "<style scoped>\n",
       "    .dataframe tbody tr th:only-of-type {\n",
       "        vertical-align: middle;\n",
       "    }\n",
       "\n",
       "    .dataframe tbody tr th {\n",
       "        vertical-align: top;\n",
       "    }\n",
       "\n",
       "    .dataframe thead th {\n",
       "        text-align: right;\n",
       "    }\n",
       "</style>\n",
       "<table border=\"1\" class=\"dataframe\">\n",
       "  <thead>\n",
       "    <tr style=\"text-align: right;\">\n",
       "      <th></th>\n",
       "      <th>SortOrder</th>\n",
       "      <th>LocID</th>\n",
       "      <th>ISO3_code</th>\n",
       "      <th>ISO2_code</th>\n",
       "      <th>LocTypeID</th>\n",
       "      <th>LocTypeName</th>\n",
       "      <th>ParentID</th>\n",
       "      <th>Location</th>\n",
       "      <th>VarID</th>\n",
       "      <th>Variant</th>\n",
       "      <th>Time</th>\n",
       "      <th>MidPeriod</th>\n",
       "      <th>PopTotal</th>\n",
       "    </tr>\n",
       "  </thead>\n",
       "  <tbody>\n",
       "  </tbody>\n",
       "</table>\n",
       "</div>"
      ],
      "text/plain": [
       "Empty DataFrame\n",
       "Columns: [SortOrder, LocID, ISO3_code, ISO2_code, LocTypeID, LocTypeName, ParentID, Location, VarID, Variant, Time, MidPeriod, PopTotal]\n",
       "Index: []"
      ]
     },
     "execution_count": 201,
     "metadata": {},
     "output_type": "execute_result"
    }
   ],
   "source": [
    "dups_not_null = dups[dups[\"ISO3_code\"].notnull()]\n",
    "dups_not_null"
   ]
  },
  {
   "cell_type": "code",
   "execution_count": null,
   "id": "0784b3fb-6e1e-4a4b-b981-6561c23b2d23",
   "metadata": {},
   "outputs": [],
   "source": []
  }
 ],
 "metadata": {
  "kernelspec": {
   "display_name": "Python 3 (ipykernel)",
   "language": "python",
   "name": "python3"
  },
  "language_info": {
   "codemirror_mode": {
    "name": "ipython",
    "version": 3
   },
   "file_extension": ".py",
   "mimetype": "text/x-python",
   "name": "python",
   "nbconvert_exporter": "python",
   "pygments_lexer": "ipython3",
   "version": "3.9.6"
  }
 },
 "nbformat": 4,
 "nbformat_minor": 5
}
